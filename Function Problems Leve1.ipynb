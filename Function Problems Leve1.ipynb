{
 "cells": [
  {
   "cell_type": "markdown",
   "id": "c28d17e6",
   "metadata": {},
   "source": [
    "### OLD MACDONALD: Write a function that capitalizes the first and fourth of a name"
   ]
  },
  {
   "cell_type": "markdown",
   "id": "f9779170",
   "metadata": {},
   "source": [
    "old_macdonald('macdonald') --> MacDonald"
   ]
  },
  {
   "cell_type": "code",
   "execution_count": 14,
   "id": "0ee3bb92",
   "metadata": {},
   "outputs": [],
   "source": [
    "def old_macdonald(name):\n",
    "    name1=name[:3]\n",
    "    name2=name[3:]\n",
    "    return name1.capitalize()+name2.capitalize()"
   ]
  },
  {
   "cell_type": "code",
   "execution_count": 15,
   "id": "1a1c5948",
   "metadata": {},
   "outputs": [
    {
     "data": {
      "text/plain": [
       "'MacDonald'"
      ]
     },
     "execution_count": 15,
     "metadata": {},
     "output_type": "execute_result"
    }
   ],
   "source": [
    "old_macdonald('macdonald')"
   ]
  },
  {
   "cell_type": "markdown",
   "id": "3aba150b",
   "metadata": {},
   "source": [
    "### MASTER YODA: Give a sentence, returns a sentence with the words reversed"
   ]
  },
  {
   "cell_type": "code",
   "execution_count": 43,
   "id": "4dc96778",
   "metadata": {},
   "outputs": [],
   "source": [
    "def master_yoda(text):\n",
    "    li=text.split()\n",
    "    return li[::-1]"
   ]
  },
  {
   "cell_type": "code",
   "execution_count": 45,
   "id": "3b5e48ad",
   "metadata": {},
   "outputs": [
    {
     "data": {
      "text/plain": [
       "['home', 'am', 'I']"
      ]
     },
     "execution_count": 45,
     "metadata": {},
     "output_type": "execute_result"
    }
   ],
   "source": [
    "master_yoda('I am home')"
   ]
  },
  {
   "cell_type": "code",
   "execution_count": 46,
   "id": "befcef6a",
   "metadata": {},
   "outputs": [
    {
     "data": {
      "text/plain": [
       "['ready', 'are', 'We']"
      ]
     },
     "execution_count": 46,
     "metadata": {},
     "output_type": "execute_result"
    }
   ],
   "source": [
    "master_yoda('We are ready')"
   ]
  },
  {
   "cell_type": "markdown",
   "id": "e90e6463",
   "metadata": {},
   "source": [
    "#### use join to join items in list"
   ]
  },
  {
   "cell_type": "code",
   "execution_count": 34,
   "id": "781b0a53",
   "metadata": {},
   "outputs": [],
   "source": [
    "mylist=['a','b','c']"
   ]
  },
  {
   "cell_type": "code",
   "execution_count": 50,
   "id": "08ab4e78",
   "metadata": {},
   "outputs": [
    {
     "data": {
      "text/plain": [
       "'aoooobooooc'"
      ]
     },
     "execution_count": 50,
     "metadata": {},
     "output_type": "execute_result"
    }
   ],
   "source": [
    "'oooo'.join(mylist)"
   ]
  },
  {
   "cell_type": "code",
   "execution_count": 36,
   "id": "3e46a255",
   "metadata": {},
   "outputs": [
    {
     "data": {
      "text/plain": [
       "'a b c'"
      ]
     },
     "execution_count": 36,
     "metadata": {},
     "output_type": "execute_result"
    }
   ],
   "source": [
    "' '.join(mylist)"
   ]
  },
  {
   "cell_type": "code",
   "execution_count": 44,
   "id": "9a1f9f81",
   "metadata": {},
   "outputs": [],
   "source": [
    "def master_yoda2(text):\n",
    "    li=text.split()\n",
    "    return ' '.join(li[::-1])"
   ]
  },
  {
   "cell_type": "code",
   "execution_count": 48,
   "id": "4749be74",
   "metadata": {},
   "outputs": [
    {
     "data": {
      "text/plain": [
       "'home am I'"
      ]
     },
     "execution_count": 48,
     "metadata": {},
     "output_type": "execute_result"
    }
   ],
   "source": [
    "master_yoda2('I am home')"
   ]
  },
  {
   "cell_type": "code",
   "execution_count": 49,
   "id": "05597b10",
   "metadata": {},
   "outputs": [
    {
     "data": {
      "text/plain": [
       "'ready are We'"
      ]
     },
     "execution_count": 49,
     "metadata": {},
     "output_type": "execute_result"
    }
   ],
   "source": [
    "master_yoda2('We are ready')"
   ]
  },
  {
   "cell_type": "markdown",
   "id": "acb8e314",
   "metadata": {},
   "source": [
    "### ALMOST THERE: Given an integer n, return True if n is within 10 of either 100 or 200"
   ]
  },
  {
   "cell_type": "code",
   "execution_count": 53,
   "id": "2575e702",
   "metadata": {},
   "outputs": [
    {
     "data": {
      "text/plain": [
       "90"
      ]
     },
     "execution_count": 53,
     "metadata": {},
     "output_type": "execute_result"
    }
   ],
   "source": [
    "abs(100-10)"
   ]
  },
  {
   "cell_type": "code",
   "execution_count": 54,
   "id": "69a971c4",
   "metadata": {},
   "outputs": [],
   "source": [
    "def almost_there(n):\n",
    "    return abs(100-n)<=10 or abs(200-n)"
   ]
  },
  {
   "cell_type": "code",
   "execution_count": 55,
   "id": "79e39279",
   "metadata": {},
   "outputs": [],
   "source": [
    "almost_there(104)"
   ]
  },
  {
   "cell_type": "code",
   "execution_count": 56,
   "id": "4c7bd543",
   "metadata": {},
   "outputs": [],
   "source": [
    "almost_there(150)"
   ]
  },
  {
   "cell_type": "code",
   "execution_count": 57,
   "id": "ef63a799",
   "metadata": {},
   "outputs": [],
   "source": [
    "almost_there(209)"
   ]
  },
  {
   "cell_type": "code",
   "execution_count": null,
   "id": "0c907743",
   "metadata": {},
   "outputs": [],
   "source": []
  }
 ],
 "metadata": {
  "kernelspec": {
   "display_name": "Python 3 (ipykernel)",
   "language": "python",
   "name": "python3"
  },
  "language_info": {
   "codemirror_mode": {
    "name": "ipython",
    "version": 3
   },
   "file_extension": ".py",
   "mimetype": "text/x-python",
   "name": "python",
   "nbconvert_exporter": "python",
   "pygments_lexer": "ipython3",
   "version": "3.11.5"
  }
 },
 "nbformat": 4,
 "nbformat_minor": 5
}
