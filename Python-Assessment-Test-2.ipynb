{
 "cells": [
  {
   "cell_type": "markdown",
   "id": "866cce3d",
   "metadata": {},
   "source": [
    "### use for, .split(), and if to create a statement that will print out words that start with 's'"
   ]
  },
  {
   "cell_type": "code",
   "execution_count": 53,
   "id": "50596672",
   "metadata": {},
   "outputs": [],
   "source": [
    "st = 'Print only the words that start with s in this sentence'"
   ]
  },
  {
   "cell_type": "code",
   "execution_count": 3,
   "id": "27c09ad0",
   "metadata": {},
   "outputs": [],
   "source": [
    "sub_st=st.split()"
   ]
  },
  {
   "cell_type": "code",
   "execution_count": 4,
   "id": "d27bcd88",
   "metadata": {},
   "outputs": [
    {
     "data": {
      "text/plain": [
       "['Print',\n",
       " 'only',\n",
       " 'the',\n",
       " 'words',\n",
       " 'that',\n",
       " 'start',\n",
       " 'with',\n",
       " 's',\n",
       " 'in',\n",
       " 'this',\n",
       " 'sentence']"
      ]
     },
     "execution_count": 4,
     "metadata": {},
     "output_type": "execute_result"
    }
   ],
   "source": [
    "sub_st"
   ]
  },
  {
   "cell_type": "code",
   "execution_count": 13,
   "id": "e5490efd",
   "metadata": {},
   "outputs": [
    {
     "name": "stdout",
     "output_type": "stream",
     "text": [
      "start\n",
      "s\n",
      "sentence\n"
     ]
    }
   ],
   "source": [
    "for word in sub_st:\n",
    "    if (word[0]=='s'):\n",
    "        print(word)"
   ]
  },
  {
   "cell_type": "code",
   "execution_count": 54,
   "id": "3ba4dada",
   "metadata": {},
   "outputs": [
    {
     "name": "stdout",
     "output_type": "stream",
     "text": [
      "start\n",
      "s\n",
      "sentence\n"
     ]
    }
   ],
   "source": [
    "for word in st.split():\n",
    "    if (word[0]=='s'):\n",
    "        print(word)"
   ]
  },
  {
   "cell_type": "markdown",
   "id": "d72cf49a",
   "metadata": {},
   "source": [
    "### use range() to print all the even numbers from 0 to 10"
   ]
  },
  {
   "cell_type": "code",
   "execution_count": 20,
   "id": "2ec754d3",
   "metadata": {},
   "outputs": [
    {
     "name": "stdout",
     "output_type": "stream",
     "text": [
      "0\n",
      "2\n",
      "4\n",
      "6\n",
      "8\n"
     ]
    }
   ],
   "source": [
    "for num in range(0,10):\n",
    "    if(num%2==0):\n",
    "        print(num)"
   ]
  },
  {
   "cell_type": "code",
   "execution_count": 21,
   "id": "8ca5025f",
   "metadata": {},
   "outputs": [
    {
     "name": "stdout",
     "output_type": "stream",
     "text": [
      "[0, 2, 4, 6, 8]\n"
     ]
    }
   ],
   "source": [
    "print([num for num in range(0,10) if num%2==0])"
   ]
  },
  {
   "cell_type": "markdown",
   "id": "1a0685cb",
   "metadata": {},
   "source": [
    "### use a list comprehension to create a list of all numbers between 1 and 50 that are divisible by 3"
   ]
  },
  {
   "cell_type": "code",
   "execution_count": 24,
   "id": "39855184",
   "metadata": {},
   "outputs": [
    {
     "name": "stdout",
     "output_type": "stream",
     "text": [
      "[1, 2, 3, 4, 5, 6, 7, 8, 9, 10, 11, 12, 13, 14, 15, 16, 17, 18, 19, 20, 21, 22, 23, 24, 25, 26, 27, 28, 29, 30, 31, 32, 33, 34, 35, 36, 37, 38, 39, 40, 41, 42, 43, 44, 45, 46, 47, 48, 49]\n"
     ]
    }
   ],
   "source": [
    "print([num2 for num2 in range(1,50) if num%3==0])"
   ]
  },
  {
   "cell_type": "markdown",
   "id": "69d87c70",
   "metadata": {},
   "source": [
    "### in the string find the length of a word if its even then print \"even!\""
   ]
  },
  {
   "cell_type": "code",
   "execution_count": 25,
   "id": "95b38020",
   "metadata": {},
   "outputs": [],
   "source": [
    "st = \"print every word in this sentence that has an even number of letters\""
   ]
  },
  {
   "cell_type": "code",
   "execution_count": 26,
   "id": "f7c0fb8d",
   "metadata": {},
   "outputs": [],
   "source": [
    "spl=st.split()"
   ]
  },
  {
   "cell_type": "code",
   "execution_count": 27,
   "id": "cdea95ac",
   "metadata": {},
   "outputs": [
    {
     "name": "stdout",
     "output_type": "stream",
     "text": [
      "['print', 'every', 'word', 'in', 'this', 'sentence', 'that', 'has', 'an', 'even', 'number', 'of', 'letters']\n"
     ]
    }
   ],
   "source": [
    "print(spl)"
   ]
  },
  {
   "cell_type": "code",
   "execution_count": 35,
   "id": "fc237461",
   "metadata": {},
   "outputs": [
    {
     "name": "stdout",
     "output_type": "stream",
     "text": [
      "print\n",
      "every\n",
      "even!\n",
      "even!\n",
      "even!\n",
      "even!\n",
      "even!\n",
      "has\n",
      "even!\n",
      "even!\n",
      "even!\n",
      "even!\n",
      "letters\n"
     ]
    }
   ],
   "source": [
    "for word in spl:\n",
    "    if(len(word)%2==0):\n",
    "        print('even!')\n",
    "    else:\n",
    "        print(word)"
   ]
  },
  {
   "cell_type": "markdown",
   "id": "e2aba98f",
   "metadata": {},
   "source": [
    "### write a program that prints the integers from 1 to 100. But for multiples of three print \"Fizz\" instead of the number, and for the multoples of five print \"Buzz\". for numbers which are multiples of both three and five print\"FizzBuzz\""
   ]
  },
  {
   "cell_type": "code",
   "execution_count": 39,
   "id": "be448bf4",
   "metadata": {},
   "outputs": [
    {
     "name": "stdout",
     "output_type": "stream",
     "text": [
      "1\n",
      "2\n",
      "Fizz\n",
      "4\n",
      "Buzz\n",
      "Fizz\n",
      "7\n",
      "8\n",
      "Fizz\n",
      "Buzz\n",
      "11\n",
      "Fizz\n",
      "13\n",
      "14\n",
      "Fizz\n",
      "Buzz\n",
      "FizzBuzz\n",
      "16\n",
      "17\n",
      "Fizz\n",
      "19\n",
      "Buzz\n",
      "Fizz\n",
      "22\n",
      "23\n",
      "Fizz\n",
      "Buzz\n",
      "26\n",
      "Fizz\n",
      "28\n",
      "29\n",
      "Fizz\n",
      "Buzz\n",
      "FizzBuzz\n",
      "31\n",
      "32\n",
      "Fizz\n",
      "34\n",
      "Buzz\n",
      "Fizz\n",
      "37\n",
      "38\n",
      "Fizz\n",
      "Buzz\n",
      "41\n",
      "Fizz\n",
      "43\n",
      "44\n",
      "Fizz\n",
      "Buzz\n",
      "FizzBuzz\n",
      "46\n",
      "47\n",
      "Fizz\n",
      "49\n",
      "Buzz\n",
      "Fizz\n",
      "52\n",
      "53\n",
      "Fizz\n",
      "Buzz\n",
      "56\n",
      "Fizz\n",
      "58\n",
      "59\n",
      "Fizz\n",
      "Buzz\n",
      "FizzBuzz\n",
      "61\n",
      "62\n",
      "Fizz\n",
      "64\n",
      "Buzz\n",
      "Fizz\n",
      "67\n",
      "68\n",
      "Fizz\n",
      "Buzz\n",
      "71\n",
      "Fizz\n",
      "73\n",
      "74\n",
      "Fizz\n",
      "Buzz\n",
      "FizzBuzz\n",
      "76\n",
      "77\n",
      "Fizz\n",
      "79\n",
      "Buzz\n",
      "Fizz\n",
      "82\n",
      "83\n",
      "Fizz\n",
      "Buzz\n",
      "86\n",
      "Fizz\n",
      "88\n",
      "89\n",
      "Fizz\n",
      "Buzz\n",
      "FizzBuzz\n",
      "91\n",
      "92\n",
      "Fizz\n",
      "94\n",
      "Buzz\n",
      "Fizz\n",
      "97\n",
      "98\n",
      "Fizz\n"
     ]
    }
   ],
   "source": [
    "for fizzbuzz_num in range(1,100):\n",
    "    if(fizzbuzz_num%3==0 or fizzbuzz_num%5==0):\n",
    "        if(fizzbuzz_num%3==0):\n",
    "           print('Fizz')\n",
    "        if(fizzbuzz_num%5==0):\n",
    "           print('Buzz')\n",
    "        if(fizzbuzz_num%3==0 and fizzbuzz_num%5==0):\n",
    "           print('FizzBuzz')\n",
    "    else:\n",
    "        print(fizzbuzz_num)"
   ]
  },
  {
   "cell_type": "markdown",
   "id": "8835a847",
   "metadata": {},
   "source": [
    "### Use List Comprehension to create a list of the first letters of every word in the string below:"
   ]
  },
  {
   "cell_type": "code",
   "execution_count": 51,
   "id": "0c221721",
   "metadata": {},
   "outputs": [],
   "source": [
    "st='create a list of the first letters of every word in this string'"
   ]
  },
  {
   "cell_type": "code",
   "execution_count": 52,
   "id": "75b56c85",
   "metadata": {},
   "outputs": [
    {
     "name": "stdout",
     "output_type": "stream",
     "text": [
      "['c', 'a', 'l', 'o', 't', 'f', 'l', 'o', 'e', 'w', 'i', 't', 's']\n"
     ]
    }
   ],
   "source": [
    "print([word[0] for word in st.split() ])"
   ]
  },
  {
   "cell_type": "code",
   "execution_count": null,
   "id": "71432ec2",
   "metadata": {},
   "outputs": [],
   "source": []
  }
 ],
 "metadata": {
  "kernelspec": {
   "display_name": "Python 3 (ipykernel)",
   "language": "python",
   "name": "python3"
  },
  "language_info": {
   "codemirror_mode": {
    "name": "ipython",
    "version": 3
   },
   "file_extension": ".py",
   "mimetype": "text/x-python",
   "name": "python",
   "nbconvert_exporter": "python",
   "pygments_lexer": "ipython3",
   "version": "3.11.5"
  }
 },
 "nbformat": 4,
 "nbformat_minor": 5
}
