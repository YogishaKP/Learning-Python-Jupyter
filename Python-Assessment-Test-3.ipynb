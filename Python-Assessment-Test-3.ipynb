{
 "cells": [
  {
   "cell_type": "markdown",
   "id": "badc6837",
   "metadata": {},
   "source": [
    "## lesser of two evens: write a function that returns the lesser of two given numbers if both numbers are even, but returns the greater if one or both numbers are odd"
   ]
  },
  {
   "cell_type": "code",
   "execution_count": 1,
   "id": "eb6a544b",
   "metadata": {},
   "outputs": [],
   "source": [
    "def lesser_of_two_evens(a,b):\n",
    "    if (a%2==0 and b%2==0):\n",
    "        return min(a,b)\n",
    "    return max(a,b)"
   ]
  },
  {
   "cell_type": "code",
   "execution_count": 2,
   "id": "6bd4cc3b",
   "metadata": {},
   "outputs": [
    {
     "data": {
      "text/plain": [
       "2"
      ]
     },
     "execution_count": 2,
     "metadata": {},
     "output_type": "execute_result"
    }
   ],
   "source": [
    "lesser_of_two_evens(2,4)"
   ]
  },
  {
   "cell_type": "code",
   "execution_count": 3,
   "id": "7bc070fa",
   "metadata": {},
   "outputs": [
    {
     "data": {
      "text/plain": [
       "5"
      ]
     },
     "execution_count": 3,
     "metadata": {},
     "output_type": "execute_result"
    }
   ],
   "source": [
    "lesser_of_two_evens(2,5)"
   ]
  },
  {
   "cell_type": "markdown",
   "id": "8d6bcba7",
   "metadata": {},
   "source": [
    "## Animal Crackers: write a function takes a two-word string and returns True if both words begin with same letter"
   ]
  },
  {
   "cell_type": "code",
   "execution_count": 22,
   "id": "4fbd5418",
   "metadata": {},
   "outputs": [],
   "source": [
    "def animal_crackers(text):\n",
    "    li=text.lower().split()        \n",
    "    if(li[0][0]==li[1][0]):\n",
    "        print(True)\n",
    "    else:\n",
    "        print(False)"
   ]
  },
  {
   "cell_type": "code",
   "execution_count": 28,
   "id": "aa6443bc",
   "metadata": {},
   "outputs": [],
   "source": [
    "def animal_crackers__2__(text):\n",
    "    li=text.upper().split()        \n",
    "    return li[0][0]==li[1][0]"
   ]
  },
  {
   "cell_type": "code",
   "execution_count": 30,
   "id": "19313df7",
   "metadata": {},
   "outputs": [
    {
     "data": {
      "text/plain": [
       "True"
      ]
     },
     "execution_count": 30,
     "metadata": {},
     "output_type": "execute_result"
    }
   ],
   "source": [
    "animal_crackers__2__('Laevel Lemma')"
   ]
  },
  {
   "cell_type": "code",
   "execution_count": 31,
   "id": "66b5edff",
   "metadata": {},
   "outputs": [
    {
     "name": "stdout",
     "output_type": "stream",
     "text": [
      "True\n"
     ]
    }
   ],
   "source": [
    "animal_crackers('Laevel Lemma')"
   ]
  },
  {
   "cell_type": "code",
   "execution_count": 33,
   "id": "170e990d",
   "metadata": {},
   "outputs": [
    {
     "name": "stdout",
     "output_type": "stream",
     "text": [
      "False\n"
     ]
    }
   ],
   "source": [
    "animal_crackers('Hello World')"
   ]
  },
  {
   "cell_type": "markdown",
   "id": "76a18c4c",
   "metadata": {},
   "source": [
    "## Makes Twenty: Given two integers, return True if the sum of the integers is 20 or if one of the integers is 20. If not, return False"
   ]
  },
  {
   "cell_type": "code",
   "execution_count": 38,
   "id": "a1439fca",
   "metadata": {},
   "outputs": [],
   "source": [
    "def makes_twenty(n1,n2):\n",
    "    return (n1==20) or (n2 == 20) or (n1+n2==20)"
   ]
  },
  {
   "cell_type": "code",
   "execution_count": 53,
   "id": "3da43aa7",
   "metadata": {},
   "outputs": [
    {
     "data": {
      "text/plain": [
       "True"
      ]
     },
     "execution_count": 53,
     "metadata": {},
     "output_type": "execute_result"
    }
   ],
   "source": [
    "makes_twenty(20,10)"
   ]
  },
  {
   "cell_type": "code",
   "execution_count": 46,
   "id": "94b8961d",
   "metadata": {},
   "outputs": [
    {
     "data": {
      "text/plain": [
       "False"
      ]
     },
     "execution_count": 46,
     "metadata": {},
     "output_type": "execute_result"
    }
   ],
   "source": [
    "makes_twenty(2,3)"
   ]
  },
  {
   "cell_type": "code",
   "execution_count": 47,
   "id": "49440c4f",
   "metadata": {},
   "outputs": [
    {
     "data": {
      "text/plain": [
       "True"
      ]
     },
     "execution_count": 47,
     "metadata": {},
     "output_type": "execute_result"
    }
   ],
   "source": [
    "makes_twenty(20,20)"
   ]
  },
  {
   "cell_type": "code",
   "execution_count": 48,
   "id": "45f43de0",
   "metadata": {},
   "outputs": [
    {
     "data": {
      "text/plain": [
       "True"
      ]
     },
     "execution_count": 48,
     "metadata": {},
     "output_type": "execute_result"
    }
   ],
   "source": [
    "makes_twenty(10,10)"
   ]
  },
  {
   "cell_type": "code",
   "execution_count": null,
   "id": "e49fe048",
   "metadata": {},
   "outputs": [],
   "source": []
  }
 ],
 "metadata": {
  "kernelspec": {
   "display_name": "Python 3 (ipykernel)",
   "language": "python",
   "name": "python3"
  },
  "language_info": {
   "codemirror_mode": {
    "name": "ipython",
    "version": 3
   },
   "file_extension": ".py",
   "mimetype": "text/x-python",
   "name": "python",
   "nbconvert_exporter": "python",
   "pygments_lexer": "ipython3",
   "version": "3.11.5"
  }
 },
 "nbformat": 4,
 "nbformat_minor": 5
}
