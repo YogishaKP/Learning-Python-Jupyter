{
 "cells": [
  {
   "cell_type": "markdown",
   "id": "5d247c12",
   "metadata": {},
   "source": [
    "## Find 33:\n",
    "#### Given a list of ints, return True if the array contains a 3 next to a 3 somewhere.\n",
    "#### has_33([1, 3, 3]) ==> True\n",
    "#### has_33([1, 3, 1, 3]) ==> False\n",
    "#### has_33([3, 1, 3]) ==> False"
   ]
  },
  {
   "cell_type": "code",
   "execution_count": 31,
   "id": "af22ba4a",
   "metadata": {},
   "outputs": [],
   "source": [
    "def has_33(nums):\n",
    "    for i in range(len(nums)-1):\n",
    "        if nums[i]==3 and nums[i+1]==3:\n",
    "            return True\n",
    "    return False"
   ]
  },
  {
   "cell_type": "code",
   "execution_count": 32,
   "id": "25fda4b2",
   "metadata": {},
   "outputs": [
    {
     "data": {
      "text/plain": [
       "True"
      ]
     },
     "execution_count": 32,
     "metadata": {},
     "output_type": "execute_result"
    }
   ],
   "source": [
    "has_33([1,3,3])"
   ]
  },
  {
   "cell_type": "code",
   "execution_count": 33,
   "id": "358c590a",
   "metadata": {},
   "outputs": [
    {
     "data": {
      "text/plain": [
       "False"
      ]
     },
     "execution_count": 33,
     "metadata": {},
     "output_type": "execute_result"
    }
   ],
   "source": [
    "has_33([1,3,1,3])"
   ]
  },
  {
   "cell_type": "code",
   "execution_count": 34,
   "id": "0a3577b9",
   "metadata": {},
   "outputs": [
    {
     "data": {
      "text/plain": [
       "False"
      ]
     },
     "execution_count": 34,
     "metadata": {},
     "output_type": "execute_result"
    }
   ],
   "source": [
    "has_33([3,1,3])"
   ]
  },
  {
   "cell_type": "code",
   "execution_count": 45,
   "id": "12074602",
   "metadata": {},
   "outputs": [],
   "source": [
    "def has_33_2(nums):\n",
    "    for i in range(len(nums)-1):\n",
    "        if nums[i:i+2]==[3,3]:\n",
    "            return True\n",
    "    return False"
   ]
  },
  {
   "cell_type": "code",
   "execution_count": 47,
   "id": "969af9f5",
   "metadata": {},
   "outputs": [
    {
     "data": {
      "text/plain": [
       "False"
      ]
     },
     "execution_count": 47,
     "metadata": {},
     "output_type": "execute_result"
    }
   ],
   "source": [
    "has_33_2([3,1,3])"
   ]
  },
  {
   "cell_type": "markdown",
   "id": "b7ec8b8d",
   "metadata": {},
   "source": [
    "## PAPER DOLL: Given a string, return a string where for every character in the original there are three characters"
   ]
  },
  {
   "cell_type": "markdown",
   "id": "ad3b4f15",
   "metadata": {},
   "source": [
    "#### paper_doll('Hello') ==> 'HHHeeellllllooo'"
   ]
  },
  {
   "cell_type": "code",
   "execution_count": 52,
   "id": "6a0dce6e",
   "metadata": {},
   "outputs": [],
   "source": [
    "def paper_doll(text):\n",
    "    st=''\n",
    "    for i in text:\n",
    "        st=st+i*3\n",
    "    return st"
   ]
  },
  {
   "cell_type": "code",
   "execution_count": 53,
   "id": "d967e39d",
   "metadata": {},
   "outputs": [
    {
     "data": {
      "text/plain": [
       "'HHHeeellllllooo'"
      ]
     },
     "execution_count": 53,
     "metadata": {},
     "output_type": "execute_result"
    }
   ],
   "source": [
    "paper_doll('Hello')"
   ]
  },
  {
   "cell_type": "code",
   "execution_count": 54,
   "id": "96be855f",
   "metadata": {},
   "outputs": [
    {
     "data": {
      "text/plain": [
       "'MMMiiissssssiiissssssiiippppppiii'"
      ]
     },
     "execution_count": 54,
     "metadata": {},
     "output_type": "execute_result"
    }
   ],
   "source": [
    "paper_doll('Mississippi')"
   ]
  },
  {
   "cell_type": "markdown",
   "id": "d802e0ff",
   "metadata": {},
   "source": [
    "## BLACKJACK: Given three integers between 1 and 11, if their sum is less than or equal to 21, return their sum. If their sum exceeds 21 and there's an eleven, reduce the total sum by 10.\n",
    "## Finally, if the sum (even after adjustment) exceeds 21, return 'BUST'"
   ]
  },
  {
   "cell_type": "markdown",
   "id": "f238232e",
   "metadata": {},
   "source": [
    "#### blackjack(5,6,7) ==> 18\n",
    "#### blackjack(9,9,9) ==> 'BUST'\n",
    "#### blackjack(9,9,11) ==> 19"
   ]
  },
  {
   "cell_type": "code",
   "execution_count": 61,
   "id": "46db8843",
   "metadata": {},
   "outputs": [],
   "source": [
    "def blackjack(a, b, c):\n",
    "    d=a+b+c\n",
    "    if (d)<= 21:\n",
    "        return d\n",
    "    elif (d)>21 and ((a==11) or (b==11) or (c==11)):\n",
    "        d=d-10\n",
    "        return d\n",
    "    else:\n",
    "        return 'BUST'\n",
    "            "
   ]
  },
  {
   "cell_type": "code",
   "execution_count": 62,
   "id": "413a570d",
   "metadata": {},
   "outputs": [
    {
     "data": {
      "text/plain": [
       "18"
      ]
     },
     "execution_count": 62,
     "metadata": {},
     "output_type": "execute_result"
    }
   ],
   "source": [
    "blackjack(5,6,7)"
   ]
  },
  {
   "cell_type": "code",
   "execution_count": 63,
   "id": "a57795fb",
   "metadata": {},
   "outputs": [
    {
     "data": {
      "text/plain": [
       "'BUST'"
      ]
     },
     "execution_count": 63,
     "metadata": {},
     "output_type": "execute_result"
    }
   ],
   "source": [
    "blackjack(9,9,9)"
   ]
  },
  {
   "cell_type": "code",
   "execution_count": 64,
   "id": "ef4a6d5c",
   "metadata": {},
   "outputs": [
    {
     "data": {
      "text/plain": [
       "19"
      ]
     },
     "execution_count": 64,
     "metadata": {},
     "output_type": "execute_result"
    }
   ],
   "source": [
    "blackjack(9,9,11)"
   ]
  },
  {
   "cell_type": "markdown",
   "id": "bd373356",
   "metadata": {},
   "source": [
    "## SUMMER OF '69': Return the sum of the numbers in the array, except ignore sections of numbers starting with a 6 and extending to the next 9 (every 6 will be followed by at least one 9). Return 0 for no numbers."
   ]
  },
  {
   "cell_type": "markdown",
   "id": "c2879f7d",
   "metadata": {},
   "source": [
    "#### summer_69([1, 3, 5]) ==> 9\n",
    "#### summer_69([4, 5, 6, 7, 8, 9]) ==> 9\n",
    "#### summer_69([2, 1, 6, 9, 11]) ==> 14"
   ]
  },
  {
   "cell_type": "code",
   "execution_count": 104,
   "id": "e8f278aa",
   "metadata": {},
   "outputs": [],
   "source": [
    "def summer_69(arr):\n",
    "    #for i in arr:\n",
    "    count=0\n",
    "    index=0\n",
    "    if(6 and 9 in arr):\n",
    "        for i in arr:\n",
    "            if (i==6):\n",
    "                break\n",
    "            count=count+i\n",
    "            index=index+1\n",
    "        for i in range(index,len(arr)):\n",
    "            count=count+i\n",
    "        return count\n",
    "    else:\n",
    "        return sum(arr)"
   ]
  },
  {
   "cell_type": "code",
   "execution_count": 105,
   "id": "ef3ffcee",
   "metadata": {},
   "outputs": [
    {
     "data": {
      "text/plain": [
       "9"
      ]
     },
     "execution_count": 105,
     "metadata": {},
     "output_type": "execute_result"
    }
   ],
   "source": [
    "summer_69([1, 3,5])"
   ]
  },
  {
   "cell_type": "code",
   "execution_count": 106,
   "id": "f8b565ff",
   "metadata": {},
   "outputs": [
    {
     "data": {
      "text/plain": [
       "23"
      ]
     },
     "execution_count": 106,
     "metadata": {},
     "output_type": "execute_result"
    }
   ],
   "source": [
    "summer_69([4, 5, 6, 7, 8, 9 ])"
   ]
  },
  {
   "cell_type": "code",
   "execution_count": 107,
   "id": "68234357",
   "metadata": {},
   "outputs": [
    {
     "data": {
      "text/plain": [
       "12"
      ]
     },
     "execution_count": 107,
     "metadata": {},
     "output_type": "execute_result"
    }
   ],
   "source": [
    "summer_69([2, 1, 6, 9, 11])"
   ]
  },
  {
   "cell_type": "code",
   "execution_count": 94,
   "id": "c64890d7",
   "metadata": {},
   "outputs": [
    {
     "data": {
      "text/plain": [
       "6"
      ]
     },
     "execution_count": 94,
     "metadata": {},
     "output_type": "execute_result"
    }
   ],
   "source": [
    "arr=[1,2,3]\n",
    "sum(arr)"
   ]
  },
  {
   "cell_type": "code",
   "execution_count": null,
   "id": "a76b3ff3",
   "metadata": {},
   "outputs": [],
   "source": [
    "def summer_69(arr):"
   ]
  }
 ],
 "metadata": {
  "kernelspec": {
   "display_name": "Python 3 (ipykernel)",
   "language": "python",
   "name": "python3"
  },
  "language_info": {
   "codemirror_mode": {
    "name": "ipython",
    "version": 3
   },
   "file_extension": ".py",
   "mimetype": "text/x-python",
   "name": "python",
   "nbconvert_exporter": "python",
   "pygments_lexer": "ipython3",
   "version": "3.11.5"
  }
 },
 "nbformat": 4,
 "nbformat_minor": 5
}
