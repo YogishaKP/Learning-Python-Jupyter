{
 "cells": [
  {
   "cell_type": "markdown",
   "id": "82bfeb0b",
   "metadata": {},
   "source": [
    "# Brief Description about Object Types and Data Structures"
   ]
  },
  {
   "cell_type": "markdown",
   "id": "748c41da",
   "metadata": {},
   "source": [
    "### Numbers:"
   ]
  },
  {
   "cell_type": "markdown",
   "id": "2ba52d7f",
   "metadata": {},
   "source": [
    "#### The datatype is for numeric data types like: Integer, Float and, complex"
   ]
  },
  {
   "cell_type": "code",
   "execution_count": 1,
   "id": "9a955daf",
   "metadata": {},
   "outputs": [
    {
     "data": {
      "text/plain": [
       "int"
      ]
     },
     "execution_count": 1,
     "metadata": {},
     "output_type": "execute_result"
    }
   ],
   "source": [
    "num=5\n",
    "type(num)"
   ]
  },
  {
   "cell_type": "code",
   "execution_count": 2,
   "id": "76109020",
   "metadata": {},
   "outputs": [
    {
     "data": {
      "text/plain": [
       "float"
      ]
     },
     "execution_count": 2,
     "metadata": {},
     "output_type": "execute_result"
    }
   ],
   "source": [
    "num=5.00\n",
    "type(num)"
   ]
  },
  {
   "cell_type": "code",
   "execution_count": 3,
   "id": "4fae653e",
   "metadata": {},
   "outputs": [
    {
     "data": {
      "text/plain": [
       "complex"
      ]
     },
     "execution_count": 3,
     "metadata": {},
     "output_type": "execute_result"
    }
   ],
   "source": [
    "num=1+5j\n",
    "type(num)"
   ]
  },
  {
   "cell_type": "markdown",
   "id": "02a10b31",
   "metadata": {},
   "source": [
    "### Strings:"
   ]
  },
  {
   "cell_type": "markdown",
   "id": "c59df025",
   "metadata": {},
   "source": [
    "#### String is a collection of alphabets, words and characters\n",
    "#### Strings are immutable\n",
    "#### str is a builtin string class name"
   ]
  },
  {
   "cell_type": "code",
   "execution_count": 9,
   "id": "f6e07223",
   "metadata": {},
   "outputs": [],
   "source": [
    "alphabet=\"s\""
   ]
  },
  {
   "cell_type": "code",
   "execution_count": 10,
   "id": "21c502c1",
   "metadata": {},
   "outputs": [
    {
     "data": {
      "text/plain": [
       "str"
      ]
     },
     "execution_count": 10,
     "metadata": {},
     "output_type": "execute_result"
    }
   ],
   "source": [
    "type(alphabet)"
   ]
  },
  {
   "cell_type": "code",
   "execution_count": 11,
   "id": "0434d8c6",
   "metadata": {},
   "outputs": [],
   "source": [
    "word=\"hello\""
   ]
  },
  {
   "cell_type": "code",
   "execution_count": 12,
   "id": "d4408a60",
   "metadata": {},
   "outputs": [
    {
     "data": {
      "text/plain": [
       "str"
      ]
     },
     "execution_count": 12,
     "metadata": {},
     "output_type": "execute_result"
    }
   ],
   "source": [
    "type(word)"
   ]
  },
  {
   "cell_type": "code",
   "execution_count": 13,
   "id": "b2a4a69f",
   "metadata": {},
   "outputs": [],
   "source": [
    "char='!@#$%'"
   ]
  },
  {
   "cell_type": "code",
   "execution_count": 14,
   "id": "617be9f6",
   "metadata": {},
   "outputs": [
    {
     "data": {
      "text/plain": [
       "str"
      ]
     },
     "execution_count": 14,
     "metadata": {},
     "output_type": "execute_result"
    }
   ],
   "source": [
    "type(char)"
   ]
  },
  {
   "cell_type": "markdown",
   "id": "0e7371a4",
   "metadata": {},
   "source": [
    "#### String Slicing"
   ]
  },
  {
   "cell_type": "code",
   "execution_count": null,
   "id": "47111e14",
   "metadata": {},
   "outputs": [],
   "source": []
  }
 ],
 "metadata": {
  "kernelspec": {
   "display_name": "Python 3 (ipykernel)",
   "language": "python",
   "name": "python3"
  },
  "language_info": {
   "codemirror_mode": {
    "name": "ipython",
    "version": 3
   },
   "file_extension": ".py",
   "mimetype": "text/x-python",
   "name": "python",
   "nbconvert_exporter": "python",
   "pygments_lexer": "ipython3",
   "version": "3.11.5"
  }
 },
 "nbformat": 4,
 "nbformat_minor": 5
}
