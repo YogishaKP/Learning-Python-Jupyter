{
 "cells": [
  {
   "cell_type": "markdown",
   "id": "aefdb781",
   "metadata": {},
   "source": [
    "# Brief Description about Object Types and Data Structures"
   ]
  },
  {
   "cell_type": "markdown",
   "id": "7d2693f8",
   "metadata": {},
   "source": [
    "### Numbers:"
   ]
  },
  {
   "cell_type": "markdown",
   "id": "f601030c",
   "metadata": {},
   "source": [
    "#### The datatype is for numeric data types like: Integer, Float and, complex\n",
    "#### And operations related to numbers like addition, substractio, multiplicatio and many more"
   ]
  },
  {
   "cell_type": "code",
   "execution_count": 1,
   "id": "0ba2f10e",
   "metadata": {},
   "outputs": [
    {
     "data": {
      "text/plain": [
       "int"
      ]
     },
     "execution_count": 1,
     "metadata": {},
     "output_type": "execute_result"
    }
   ],
   "source": [
    "num=5\n",
    "type(num)"
   ]
  },
  {
   "cell_type": "code",
   "execution_count": 2,
   "id": "757a4b38",
   "metadata": {},
   "outputs": [
    {
     "data": {
      "text/plain": [
       "float"
      ]
     },
     "execution_count": 2,
     "metadata": {},
     "output_type": "execute_result"
    }
   ],
   "source": [
    "num=5.00\n",
    "type(num)"
   ]
  },
  {
   "cell_type": "code",
   "execution_count": 3,
   "id": "db9036d0",
   "metadata": {},
   "outputs": [
    {
     "data": {
      "text/plain": [
       "complex"
      ]
     },
     "execution_count": 3,
     "metadata": {},
     "output_type": "execute_result"
    }
   ],
   "source": [
    "num=1+5j\n",
    "type(num)"
   ]
  },
  {
   "cell_type": "markdown",
   "id": "ce0d45a6",
   "metadata": {},
   "source": [
    "### Strings:"
   ]
  },
  {
   "cell_type": "markdown",
   "id": "9a27eb5e",
   "metadata": {},
   "source": [
    "#### String is a collection of alphabets, words and characters\n",
    "#### Strings are immutable\n",
    "#### str is a builtin string class name\n",
    "#### Sring as different operations like slicing, concatination, capitalize, lowercase, formating and many more"
   ]
  },
  {
   "cell_type": "code",
   "execution_count": 9,
   "id": "48fc78e2",
   "metadata": {},
   "outputs": [],
   "source": [
    "alphabet=\"s\""
   ]
  },
  {
   "cell_type": "code",
   "execution_count": 10,
   "id": "454fa20a",
   "metadata": {},
   "outputs": [
    {
     "data": {
      "text/plain": [
       "str"
      ]
     },
     "execution_count": 10,
     "metadata": {},
     "output_type": "execute_result"
    }
   ],
   "source": [
    "type(alphabet)"
   ]
  },
  {
   "cell_type": "code",
   "execution_count": 11,
   "id": "5a6ef57a",
   "metadata": {},
   "outputs": [],
   "source": [
    "word=\"hello\""
   ]
  },
  {
   "cell_type": "code",
   "execution_count": 12,
   "id": "97ff26ab",
   "metadata": {},
   "outputs": [
    {
     "data": {
      "text/plain": [
       "str"
      ]
     },
     "execution_count": 12,
     "metadata": {},
     "output_type": "execute_result"
    }
   ],
   "source": [
    "type(word)"
   ]
  },
  {
   "cell_type": "code",
   "execution_count": 13,
   "id": "56262845",
   "metadata": {},
   "outputs": [],
   "source": [
    "char='!@#$%'"
   ]
  },
  {
   "cell_type": "code",
   "execution_count": 14,
   "id": "49750378",
   "metadata": {},
   "outputs": [
    {
     "data": {
      "text/plain": [
       "str"
      ]
     },
     "execution_count": 14,
     "metadata": {},
     "output_type": "execute_result"
    }
   ],
   "source": [
    "type(char)"
   ]
  },
  {
   "cell_type": "markdown",
   "id": "b0199319",
   "metadata": {},
   "source": [
    "### Lists"
   ]
  },
  {
   "cell_type": "markdown",
   "id": "91c4c002",
   "metadata": {},
   "source": [
    "#### Lists are used to store mulitple items in a single variable\n",
    "#### used to store collections of data\n",
    "#### It can hold both numeric and characters in the same list\n",
    "#### Elements can be accessed by index value\n",
    "#### 'list' is the builtin keyword\n",
    "#### Lists are mutable we can change value at any point"
   ]
  },
  {
   "cell_type": "code",
   "execution_count": 2,
   "id": "02f312eb",
   "metadata": {},
   "outputs": [],
   "source": [
    "li=['h','1','2','e']"
   ]
  },
  {
   "cell_type": "code",
   "execution_count": 3,
   "id": "9515b2b9",
   "metadata": {},
   "outputs": [
    {
     "data": {
      "text/plain": [
       "['h', '1', '2', 'e']"
      ]
     },
     "execution_count": 3,
     "metadata": {},
     "output_type": "execute_result"
    }
   ],
   "source": [
    "li"
   ]
  },
  {
   "cell_type": "code",
   "execution_count": 4,
   "id": "9d268363",
   "metadata": {},
   "outputs": [
    {
     "data": {
      "text/plain": [
       "list"
      ]
     },
     "execution_count": 4,
     "metadata": {},
     "output_type": "execute_result"
    }
   ],
   "source": [
    "type(li)"
   ]
  },
  {
   "cell_type": "markdown",
   "id": "b6216ce4",
   "metadata": {},
   "source": [
    "### Tuples"
   ]
  },
  {
   "cell_type": "markdown",
   "id": "87423ef2",
   "metadata": {},
   "source": [
    "#### Tuple is immutable\n",
    "#### Tuple is one among 4 built-in data types in python\n",
    "#### inbuilt 'tuple'"
   ]
  },
  {
   "cell_type": "code",
   "execution_count": 9,
   "id": "dc0cc7b2",
   "metadata": {},
   "outputs": [],
   "source": [
    "tu=('hi','1',2,2)"
   ]
  },
  {
   "cell_type": "code",
   "execution_count": 10,
   "id": "9cdfa370",
   "metadata": {},
   "outputs": [
    {
     "data": {
      "text/plain": [
       "('hi', '1', 2, 2)"
      ]
     },
     "execution_count": 10,
     "metadata": {},
     "output_type": "execute_result"
    }
   ],
   "source": [
    "tu"
   ]
  },
  {
   "cell_type": "code",
   "execution_count": 11,
   "id": "c493bb67",
   "metadata": {},
   "outputs": [
    {
     "data": {
      "text/plain": [
       "tuple"
      ]
     },
     "execution_count": 11,
     "metadata": {},
     "output_type": "execute_result"
    }
   ],
   "source": [
    "type(tu)"
   ]
  },
  {
   "cell_type": "markdown",
   "id": "fd59798a",
   "metadata": {},
   "source": [
    "### Dictonaries"
   ]
  },
  {
   "cell_type": "markdown",
   "id": "b27ce6dc",
   "metadata": {},
   "source": [
    "#### Storing data in the form of Keys and values as pairs\n",
    "#### Do not allow duplicate values\n",
    "#### it is mutable\n",
    "#### 'dict' is the built-in word"
   ]
  },
  {
   "cell_type": "code",
   "execution_count": 13,
   "id": "8411e5ce",
   "metadata": {},
   "outputs": [],
   "source": [
    "di={1:2,3:4}"
   ]
  },
  {
   "cell_type": "code",
   "execution_count": 14,
   "id": "3de80a10",
   "metadata": {},
   "outputs": [
    {
     "data": {
      "text/plain": [
       "{1: 2, 3: 4}"
      ]
     },
     "execution_count": 14,
     "metadata": {},
     "output_type": "execute_result"
    }
   ],
   "source": [
    "di"
   ]
  },
  {
   "cell_type": "code",
   "execution_count": 15,
   "id": "e979f851",
   "metadata": {},
   "outputs": [
    {
     "data": {
      "text/plain": [
       "dict"
      ]
     },
     "execution_count": 15,
     "metadata": {},
     "output_type": "execute_result"
    }
   ],
   "source": [
    "type(di)"
   ]
  },
  {
   "cell_type": "code",
   "execution_count": 22,
   "id": "8869dd11",
   "metadata": {},
   "outputs": [],
   "source": [
    "di={1:2,3:4,'a':6,'a':6}"
   ]
  },
  {
   "cell_type": "code",
   "execution_count": 23,
   "id": "ad38d4d1",
   "metadata": {},
   "outputs": [
    {
     "data": {
      "text/plain": [
       "{1: 2, 3: 4, 'a': 6}"
      ]
     },
     "execution_count": 23,
     "metadata": {},
     "output_type": "execute_result"
    }
   ],
   "source": [
    "di"
   ]
  },
  {
   "cell_type": "markdown",
   "id": "19acf198",
   "metadata": {},
   "source": [
    "### Numbers"
   ]
  },
  {
   "cell_type": "markdown",
   "id": "bc8b9f4b",
   "metadata": {},
   "source": [
    "### write an equation that uses multiplication, division, and exponent, addition, and substraction that is equal to 100.25."
   ]
  },
  {
   "cell_type": "code",
   "execution_count": 60,
   "id": "2b775218",
   "metadata": {},
   "outputs": [
    {
     "data": {
      "text/plain": [
       "100.25"
      ]
     },
     "execution_count": 60,
     "metadata": {},
     "output_type": "execute_result"
    }
   ],
   "source": [
    "200*2/4+1**2-0.75"
   ]
  },
  {
   "cell_type": "markdown",
   "id": "363813ed",
   "metadata": {},
   "source": [
    "first exponential works\n",
    "1**2 = 1 \n",
    "\n",
    "then multiplication\n",
    "so 2*200 = 400\n",
    "\n",
    "then division\n",
    "so 400/4 = 100\n",
    "\n",
    "then addition\n",
    "so 100+1 = 101\n",
    "\n",
    "then substraction\n",
    "101-0.75 = 100.25"
   ]
  },
  {
   "cell_type": "markdown",
   "id": "c793dc08",
   "metadata": {},
   "source": [
    "##### check the equations\n",
    "##### 1. 4 * (6+5)\n",
    "##### 2. 4 * 6+5\n",
    "##### 3. 4 + 6 * 5"
   ]
  },
  {
   "cell_type": "code",
   "execution_count": 61,
   "id": "8e65eb2e",
   "metadata": {},
   "outputs": [
    {
     "data": {
      "text/plain": [
       "44"
      ]
     },
     "execution_count": 61,
     "metadata": {},
     "output_type": "execute_result"
    }
   ],
   "source": [
    "4 * (6+5)"
   ]
  },
  {
   "cell_type": "code",
   "execution_count": 62,
   "id": "8c46fea1",
   "metadata": {},
   "outputs": [
    {
     "data": {
      "text/plain": [
       "29"
      ]
     },
     "execution_count": 62,
     "metadata": {},
     "output_type": "execute_result"
    }
   ],
   "source": [
    "4 * 6+5"
   ]
  },
  {
   "cell_type": "code",
   "execution_count": 63,
   "id": "8add472b",
   "metadata": {},
   "outputs": [
    {
     "data": {
      "text/plain": [
       "34"
      ]
     },
     "execution_count": 63,
     "metadata": {},
     "output_type": "execute_result"
    }
   ],
   "source": [
    "4 + 6 * 5"
   ]
  },
  {
   "cell_type": "markdown",
   "id": "e38ee992",
   "metadata": {},
   "source": [
    "#### what is the data type of this equation 3+1.5+4"
   ]
  },
  {
   "cell_type": "code",
   "execution_count": 68,
   "id": "19f6e915",
   "metadata": {},
   "outputs": [
    {
     "data": {
      "text/plain": [
       "8.5"
      ]
     },
     "execution_count": 68,
     "metadata": {},
     "output_type": "execute_result"
    }
   ],
   "source": [
    "3+1.5+4"
   ]
  },
  {
   "cell_type": "code",
   "execution_count": 65,
   "id": "d0d0b846",
   "metadata": {},
   "outputs": [],
   "source": [
    "d=3+1.5+4"
   ]
  },
  {
   "cell_type": "code",
   "execution_count": 66,
   "id": "41d63186",
   "metadata": {},
   "outputs": [
    {
     "data": {
      "text/plain": [
       "float"
      ]
     },
     "execution_count": 66,
     "metadata": {},
     "output_type": "execute_result"
    }
   ],
   "source": [
    "type(d)"
   ]
  },
  {
   "cell_type": "markdown",
   "id": "d8cc281b",
   "metadata": {},
   "source": [
    "#### Find the sqaure root and find the square "
   ]
  },
  {
   "cell_type": "code",
   "execution_count": 71,
   "id": "8c8043b4",
   "metadata": {},
   "outputs": [
    {
     "data": {
      "text/plain": [
       "1.4142135623730951"
      ]
     },
     "execution_count": 71,
     "metadata": {},
     "output_type": "execute_result"
    }
   ],
   "source": [
    "import math as m\n",
    "m.sqrt(2)"
   ]
  },
  {
   "cell_type": "code",
   "execution_count": 72,
   "id": "b0f00ed1",
   "metadata": {},
   "outputs": [
    {
     "data": {
      "text/plain": [
       "2.0"
      ]
     },
     "execution_count": 72,
     "metadata": {},
     "output_type": "execute_result"
    }
   ],
   "source": [
    "m.sqrt(4)"
   ]
  },
  {
   "cell_type": "code",
   "execution_count": 74,
   "id": "6b235f24",
   "metadata": {},
   "outputs": [
    {
     "data": {
      "text/plain": [
       "4"
      ]
     },
     "execution_count": 74,
     "metadata": {},
     "output_type": "execute_result"
    }
   ],
   "source": [
    "2**2"
   ]
  },
  {
   "cell_type": "markdown",
   "id": "930da9db",
   "metadata": {},
   "source": [
    "### Strings"
   ]
  },
  {
   "cell_type": "markdown",
   "id": "5f55b1a1",
   "metadata": {},
   "source": [
    "#### In the string 'hello' give an index command that returs 'e'"
   ]
  },
  {
   "cell_type": "code",
   "execution_count": 1,
   "id": "2c53b8d8",
   "metadata": {},
   "outputs": [
    {
     "data": {
      "text/plain": [
       "'e'"
      ]
     },
     "execution_count": 1,
     "metadata": {},
     "output_type": "execute_result"
    }
   ],
   "source": [
    "s='hello'\n",
    "s[1]"
   ]
  },
  {
   "cell_type": "markdown",
   "id": "561d674f",
   "metadata": {},
   "source": [
    "#### Reverse the string 'hello' using slicing"
   ]
  },
  {
   "cell_type": "code",
   "execution_count": 2,
   "id": "534c4d9f",
   "metadata": {},
   "outputs": [
    {
     "data": {
      "text/plain": [
       "'olleh'"
      ]
     },
     "execution_count": 2,
     "metadata": {},
     "output_type": "execute_result"
    }
   ],
   "source": [
    "s='hello'\n",
    "s[::-1]"
   ]
  },
  {
   "cell_type": "markdown",
   "id": "8d380436",
   "metadata": {},
   "source": [
    "#### Give two methods of producing the letter 'o' using indexing"
   ]
  },
  {
   "cell_type": "code",
   "execution_count": 4,
   "id": "e36e883d",
   "metadata": {},
   "outputs": [
    {
     "name": "stdout",
     "output_type": "stream",
     "text": [
      "o\n",
      "o\n"
     ]
    }
   ],
   "source": [
    "s='hello'\n",
    "print(s[-1])\n",
    "print(s[4])"
   ]
  },
  {
   "cell_type": "markdown",
   "id": "5a7889c5",
   "metadata": {},
   "source": [
    "### Lists"
   ]
  },
  {
   "cell_type": "markdown",
   "id": "a1342340",
   "metadata": {},
   "source": [
    "#### Built the list [0,0,0] two separate ways"
   ]
  },
  {
   "cell_type": "code",
   "execution_count": 78,
   "id": "cf282bbd",
   "metadata": {},
   "outputs": [
    {
     "name": "stdout",
     "output_type": "stream",
     "text": [
      "[0, 0, 0]\n",
      "[0, 0, 0]\n"
     ]
    }
   ],
   "source": [
    "li=[0,0,0]\n",
    "li2=[0]*3\n",
    "print(li)\n",
    "print(li2)"
   ]
  },
  {
   "cell_type": "markdown",
   "id": "b59daee4",
   "metadata": {},
   "source": [
    "#### Reassign 'hello' in the nested list to say 'goodbye' instead"
   ]
  },
  {
   "cell_type": "code",
   "execution_count": 7,
   "id": "ebfe1ee8",
   "metadata": {},
   "outputs": [],
   "source": [
    "list3=[1,2,[3,4,'hello']]"
   ]
  },
  {
   "cell_type": "code",
   "execution_count": 8,
   "id": "f142a2e4",
   "metadata": {},
   "outputs": [
    {
     "data": {
      "text/plain": [
       "'hello'"
      ]
     },
     "execution_count": 8,
     "metadata": {},
     "output_type": "execute_result"
    }
   ],
   "source": [
    "list3[2][2]"
   ]
  },
  {
   "cell_type": "code",
   "execution_count": 9,
   "id": "64e3f952",
   "metadata": {},
   "outputs": [],
   "source": [
    "list3[2][2]='goodbye'"
   ]
  },
  {
   "cell_type": "code",
   "execution_count": 10,
   "id": "91655991",
   "metadata": {},
   "outputs": [
    {
     "name": "stdout",
     "output_type": "stream",
     "text": [
      "[1, 2, [3, 4, 'goodbye']]\n"
     ]
    }
   ],
   "source": [
    "print(list3)"
   ]
  },
  {
   "cell_type": "markdown",
   "id": "8766f64f",
   "metadata": {},
   "source": [
    "#### Sort the list below"
   ]
  },
  {
   "cell_type": "code",
   "execution_count": 11,
   "id": "05de9aff",
   "metadata": {},
   "outputs": [],
   "source": [
    "list4=[5,3,4,6,1]"
   ]
  },
  {
   "cell_type": "code",
   "execution_count": 13,
   "id": "f22bbb0c",
   "metadata": {},
   "outputs": [],
   "source": [
    "list4.sort()"
   ]
  },
  {
   "cell_type": "code",
   "execution_count": 14,
   "id": "d9bf671e",
   "metadata": {},
   "outputs": [
    {
     "name": "stdout",
     "output_type": "stream",
     "text": [
      "[1, 3, 4, 5, 6]\n"
     ]
    }
   ],
   "source": [
    "print(list4)"
   ]
  },
  {
   "cell_type": "markdown",
   "id": "701e8e4b",
   "metadata": {},
   "source": [
    "### Dictionaries"
   ]
  },
  {
   "cell_type": "markdown",
   "id": "986d7461",
   "metadata": {},
   "source": [
    "#### Using keys and idexing grab the 'hello' from the following dictionaries"
   ]
  },
  {
   "cell_type": "code",
   "execution_count": 16,
   "id": "5f32ac2f",
   "metadata": {},
   "outputs": [],
   "source": [
    "d={'key1':'hello'}"
   ]
  },
  {
   "cell_type": "code",
   "execution_count": 20,
   "id": "737f8706",
   "metadata": {},
   "outputs": [
    {
     "data": {
      "text/plain": [
       "'hello'"
      ]
     },
     "execution_count": 20,
     "metadata": {},
     "output_type": "execute_result"
    }
   ],
   "source": [
    "d['key1']"
   ]
  },
  {
   "cell_type": "code",
   "execution_count": 23,
   "id": "afd940b0",
   "metadata": {},
   "outputs": [],
   "source": [
    "d2={'k1':{'k2':'hello'}}"
   ]
  },
  {
   "cell_type": "code",
   "execution_count": 24,
   "id": "62c305ec",
   "metadata": {},
   "outputs": [
    {
     "data": {
      "text/plain": [
       "'hello'"
      ]
     },
     "execution_count": 24,
     "metadata": {},
     "output_type": "execute_result"
    }
   ],
   "source": [
    "d2['k1']['k2']"
   ]
  },
  {
   "cell_type": "code",
   "execution_count": 25,
   "id": "128d59a4",
   "metadata": {},
   "outputs": [],
   "source": [
    "d3={'k1':[{'nest_key':['this is deep',['hello']]}]}"
   ]
  },
  {
   "cell_type": "code",
   "execution_count": 30,
   "id": "80e13f6c",
   "metadata": {},
   "outputs": [
    {
     "data": {
      "text/plain": [
       "'hello'"
      ]
     },
     "execution_count": 30,
     "metadata": {},
     "output_type": "execute_result"
    }
   ],
   "source": [
    "d3['k1'][0]['nest_key'][1][0]"
   ]
  },
  {
   "cell_type": "code",
   "execution_count": 32,
   "id": "fae16752",
   "metadata": {},
   "outputs": [],
   "source": [
    "d4={'k1':[1,2,{'k2':['this is tricky',{'tough':[1,2,['hello']]}]}]}"
   ]
  },
  {
   "cell_type": "code",
   "execution_count": 33,
   "id": "afa081fa",
   "metadata": {},
   "outputs": [
    {
     "data": {
      "text/plain": [
       "'hello'"
      ]
     },
     "execution_count": 33,
     "metadata": {},
     "output_type": "execute_result"
    }
   ],
   "source": [
    "d4['k1'][2]['k2'][1]['tough'][2][0]"
   ]
  },
  {
   "cell_type": "markdown",
   "id": "d27ae3cf",
   "metadata": {},
   "source": [
    "### Tuples"
   ]
  },
  {
   "cell_type": "markdown",
   "id": "3559d0cf",
   "metadata": {},
   "source": [
    "#### differnce between tuples and lists"
   ]
  },
  {
   "cell_type": "markdown",
   "id": "8248d21e",
   "metadata": {},
   "source": [
    "##### Tuples are immutable where Lists are mutable\n",
    "##### Tuples are denoted by parenthesis but Lists are denoted by square bracket\n",
    "##### List is dynamic where Tuples are static"
   ]
  },
  {
   "cell_type": "code",
   "execution_count": 35,
   "id": "aaf19272",
   "metadata": {},
   "outputs": [
    {
     "data": {
      "text/plain": [
       "(1, 2, 'three')"
      ]
     },
     "execution_count": 35,
     "metadata": {},
     "output_type": "execute_result"
    }
   ],
   "source": [
    "tu=(1,2,'three')\n",
    "tu"
   ]
  },
  {
   "cell_type": "code",
   "execution_count": 36,
   "id": "1012bc4b",
   "metadata": {},
   "outputs": [
    {
     "data": {
      "text/plain": [
       "tuple"
      ]
     },
     "execution_count": 36,
     "metadata": {},
     "output_type": "execute_result"
    }
   ],
   "source": [
    "type(tu)"
   ]
  },
  {
   "cell_type": "markdown",
   "id": "dc325990",
   "metadata": {},
   "source": [
    "### Sets"
   ]
  },
  {
   "cell_type": "markdown",
   "id": "3687792d",
   "metadata": {},
   "source": [
    "#### Elements in Dictionaries are accessed by keys  where in Sets elements are accesed by position"
   ]
  },
  {
   "cell_type": "code",
   "execution_count": 37,
   "id": "07255ae3",
   "metadata": {},
   "outputs": [
    {
     "data": {
      "text/plain": [
       "{1, 2, 3}"
      ]
     },
     "execution_count": 37,
     "metadata": {},
     "output_type": "execute_result"
    }
   ],
   "source": [
    "s={1,2,2,3}\n",
    "s"
   ]
  },
  {
   "cell_type": "code",
   "execution_count": 38,
   "id": "5eb73dfa",
   "metadata": {},
   "outputs": [
    {
     "data": {
      "text/plain": [
       "set"
      ]
     },
     "execution_count": 38,
     "metadata": {},
     "output_type": "execute_result"
    }
   ],
   "source": [
    "type(s)"
   ]
  },
  {
   "cell_type": "markdown",
   "id": "ed4badda",
   "metadata": {},
   "source": [
    "#### use a set to find the unique values of the list"
   ]
  },
  {
   "cell_type": "code",
   "execution_count": 57,
   "id": "a5ff2f4a",
   "metadata": {},
   "outputs": [],
   "source": [
    "list5=[1,2,2,33,4,4,11,22,3,3,2]"
   ]
  },
  {
   "cell_type": "code",
   "execution_count": 58,
   "id": "727d49ae",
   "metadata": {},
   "outputs": [
    {
     "data": {
      "text/plain": [
       "list"
      ]
     },
     "execution_count": 58,
     "metadata": {},
     "output_type": "execute_result"
    }
   ],
   "source": [
    "type(list5)"
   ]
  },
  {
   "cell_type": "code",
   "execution_count": 59,
   "id": "e61e820e",
   "metadata": {},
   "outputs": [
    {
     "data": {
      "text/plain": [
       "[1, 2, 2, 33, 4, 4, 11, 22, 3, 3, 2]"
      ]
     },
     "execution_count": 59,
     "metadata": {},
     "output_type": "execute_result"
    }
   ],
   "source": [
    "list5"
   ]
  },
  {
   "cell_type": "code",
   "execution_count": 60,
   "id": "cf991c14",
   "metadata": {},
   "outputs": [],
   "source": [
    "s=list5"
   ]
  },
  {
   "cell_type": "code",
   "execution_count": 61,
   "id": "95c742c9",
   "metadata": {},
   "outputs": [],
   "source": [
    "s=set(s)"
   ]
  },
  {
   "cell_type": "code",
   "execution_count": 62,
   "id": "11d6a636",
   "metadata": {},
   "outputs": [],
   "source": [
    "list5=list(s)"
   ]
  },
  {
   "cell_type": "code",
   "execution_count": 63,
   "id": "ba576d63",
   "metadata": {},
   "outputs": [
    {
     "data": {
      "text/plain": [
       "[1, 2, 33, 4, 3, 11, 22]"
      ]
     },
     "execution_count": 63,
     "metadata": {},
     "output_type": "execute_result"
    }
   ],
   "source": [
    "list5"
   ]
  },
  {
   "cell_type": "code",
   "execution_count": 64,
   "id": "c7b3ddb5",
   "metadata": {},
   "outputs": [
    {
     "data": {
      "text/plain": [
       "list"
      ]
     },
     "execution_count": 64,
     "metadata": {},
     "output_type": "execute_result"
    }
   ],
   "source": [
    "type(list5)"
   ]
  },
  {
   "cell_type": "markdown",
   "id": "cb235427",
   "metadata": {},
   "source": [
    "### Booleans"
   ]
  },
  {
   "cell_type": "code",
   "execution_count": 65,
   "id": "be667e23",
   "metadata": {},
   "outputs": [],
   "source": [
    "a=3\n",
    "b=4"
   ]
  },
  {
   "cell_type": "code",
   "execution_count": 66,
   "id": "39c270b2",
   "metadata": {},
   "outputs": [
    {
     "data": {
      "text/plain": [
       "False"
      ]
     },
     "execution_count": 66,
     "metadata": {},
     "output_type": "execute_result"
    }
   ],
   "source": [
    "a==b"
   ]
  },
  {
   "cell_type": "code",
   "execution_count": 67,
   "id": "2a030c46",
   "metadata": {},
   "outputs": [
    {
     "data": {
      "text/plain": [
       "True"
      ]
     },
     "execution_count": 67,
     "metadata": {},
     "output_type": "execute_result"
    }
   ],
   "source": [
    "a!=b"
   ]
  },
  {
   "cell_type": "code",
   "execution_count": 68,
   "id": "97d68474",
   "metadata": {},
   "outputs": [
    {
     "data": {
      "text/plain": [
       "False"
      ]
     },
     "execution_count": 68,
     "metadata": {},
     "output_type": "execute_result"
    }
   ],
   "source": [
    "a>b"
   ]
  },
  {
   "cell_type": "code",
   "execution_count": 69,
   "id": "a30d8d5f",
   "metadata": {},
   "outputs": [
    {
     "data": {
      "text/plain": [
       "True"
      ]
     },
     "execution_count": 69,
     "metadata": {},
     "output_type": "execute_result"
    }
   ],
   "source": [
    "a<b"
   ]
  },
  {
   "cell_type": "code",
   "execution_count": 70,
   "id": "ed65df57",
   "metadata": {},
   "outputs": [
    {
     "data": {
      "text/plain": [
       "False"
      ]
     },
     "execution_count": 70,
     "metadata": {},
     "output_type": "execute_result"
    }
   ],
   "source": [
    "a>=b"
   ]
  },
  {
   "cell_type": "code",
   "execution_count": 71,
   "id": "fd4a806c",
   "metadata": {},
   "outputs": [
    {
     "data": {
      "text/plain": [
       "True"
      ]
     },
     "execution_count": 71,
     "metadata": {},
     "output_type": "execute_result"
    }
   ],
   "source": [
    "a<=b"
   ]
  },
  {
   "cell_type": "code",
   "execution_count": 72,
   "id": "e1c9fea1",
   "metadata": {},
   "outputs": [
    {
     "data": {
      "text/plain": [
       "True"
      ]
     },
     "execution_count": 72,
     "metadata": {},
     "output_type": "execute_result"
    }
   ],
   "source": [
    "3.0 == 3"
   ]
  },
  {
   "cell_type": "code",
   "execution_count": 73,
   "id": "3baad410",
   "metadata": {},
   "outputs": [
    {
     "data": {
      "text/plain": [
       "False"
      ]
     },
     "execution_count": 73,
     "metadata": {},
     "output_type": "execute_result"
    }
   ],
   "source": [
    "4**0.5 != 2"
   ]
  },
  {
   "cell_type": "markdown",
   "id": "e3481c2e",
   "metadata": {},
   "source": [
    "#### what is the boolean output of the cell block"
   ]
  },
  {
   "cell_type": "code",
   "execution_count": 77,
   "id": "82cf8e64",
   "metadata": {},
   "outputs": [
    {
     "data": {
      "text/plain": [
       "False"
      ]
     },
     "execution_count": 77,
     "metadata": {},
     "output_type": "execute_result"
    }
   ],
   "source": [
    "# two nested lists\n",
    "l_one = [1,2,[3,4]]\n",
    "l_two = [1,2,{'k1':4}]\n",
    "\n",
    "l_one[2][0] >= l_two[2]['k1']"
   ]
  },
  {
   "cell_type": "code",
   "execution_count": null,
   "id": "6bcdc78f",
   "metadata": {},
   "outputs": [],
   "source": []
  }
 ],
 "metadata": {
  "kernelspec": {
   "display_name": "Python 3 (ipykernel)",
   "language": "python",
   "name": "python3"
  },
  "language_info": {
   "codemirror_mode": {
    "name": "ipython",
    "version": 3
   },
   "file_extension": ".py",
   "mimetype": "text/x-python",
   "name": "python",
   "nbconvert_exporter": "python",
   "pygments_lexer": "ipython3",
   "version": "3.11.5"
  }
 },
 "nbformat": 4,
 "nbformat_minor": 5
}
