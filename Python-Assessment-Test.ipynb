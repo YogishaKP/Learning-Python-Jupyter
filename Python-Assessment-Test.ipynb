{
 "cells": [
  {
   "cell_type": "markdown",
   "id": "aefdb781",
   "metadata": {},
   "source": [
    "# Brief Description about Object Types and Data Structures"
   ]
  },
  {
   "cell_type": "markdown",
   "id": "7d2693f8",
   "metadata": {},
   "source": [
    "### Numbers:"
   ]
  },
  {
   "cell_type": "markdown",
   "id": "f601030c",
   "metadata": {},
   "source": [
    "#### The datatype is for numeric data types like: Integer, Float and, complex\n",
    "#### And operations related to numbers like addition, substractio, multiplicatio and many more"
   ]
  },
  {
   "cell_type": "code",
   "execution_count": 1,
   "id": "0ba2f10e",
   "metadata": {},
   "outputs": [
    {
     "data": {
      "text/plain": [
       "int"
      ]
     },
     "execution_count": 1,
     "metadata": {},
     "output_type": "execute_result"
    }
   ],
   "source": [
    "num=5\n",
    "type(num)"
   ]
  },
  {
   "cell_type": "code",
   "execution_count": 2,
   "id": "757a4b38",
   "metadata": {},
   "outputs": [
    {
     "data": {
      "text/plain": [
       "float"
      ]
     },
     "execution_count": 2,
     "metadata": {},
     "output_type": "execute_result"
    }
   ],
   "source": [
    "num=5.00\n",
    "type(num)"
   ]
  },
  {
   "cell_type": "code",
   "execution_count": 3,
   "id": "db9036d0",
   "metadata": {},
   "outputs": [
    {
     "data": {
      "text/plain": [
       "complex"
      ]
     },
     "execution_count": 3,
     "metadata": {},
     "output_type": "execute_result"
    }
   ],
   "source": [
    "num=1+5j\n",
    "type(num)"
   ]
  },
  {
   "cell_type": "markdown",
   "id": "ce0d45a6",
   "metadata": {},
   "source": [
    "### Strings:"
   ]
  },
  {
   "cell_type": "markdown",
   "id": "9a27eb5e",
   "metadata": {},
   "source": [
    "#### String is a collection of alphabets, words and characters\n",
    "#### Strings are immutable\n",
    "#### str is a builtin string class name\n",
    "#### Sring as different operations like slicing, concatination, capitalize, lowercase, formating and many more"
   ]
  },
  {
   "cell_type": "code",
   "execution_count": 9,
   "id": "48fc78e2",
   "metadata": {},
   "outputs": [],
   "source": [
    "alphabet=\"s\""
   ]
  },
  {
   "cell_type": "code",
   "execution_count": 10,
   "id": "454fa20a",
   "metadata": {},
   "outputs": [
    {
     "data": {
      "text/plain": [
       "str"
      ]
     },
     "execution_count": 10,
     "metadata": {},
     "output_type": "execute_result"
    }
   ],
   "source": [
    "type(alphabet)"
   ]
  },
  {
   "cell_type": "code",
   "execution_count": 11,
   "id": "5a6ef57a",
   "metadata": {},
   "outputs": [],
   "source": [
    "word=\"hello\""
   ]
  },
  {
   "cell_type": "code",
   "execution_count": 12,
   "id": "97ff26ab",
   "metadata": {},
   "outputs": [
    {
     "data": {
      "text/plain": [
       "str"
      ]
     },
     "execution_count": 12,
     "metadata": {},
     "output_type": "execute_result"
    }
   ],
   "source": [
    "type(word)"
   ]
  },
  {
   "cell_type": "code",
   "execution_count": 13,
   "id": "56262845",
   "metadata": {},
   "outputs": [],
   "source": [
    "char='!@#$%'"
   ]
  },
  {
   "cell_type": "code",
   "execution_count": 14,
   "id": "49750378",
   "metadata": {},
   "outputs": [
    {
     "data": {
      "text/plain": [
       "str"
      ]
     },
     "execution_count": 14,
     "metadata": {},
     "output_type": "execute_result"
    }
   ],
   "source": [
    "type(char)"
   ]
  },
  {
   "cell_type": "markdown",
   "id": "b0199319",
   "metadata": {},
   "source": [
    "### Lists"
   ]
  },
  {
   "cell_type": "markdown",
   "id": "e20c6c05",
   "metadata": {},
   "source": [
    "#### Lists are used to store mulitple items in a single variable\n",
    "#### used to store collections of data\n",
    "#### It can hold both numeric and characters in the same list\n",
    "#### Elements can be accessed by index value\n",
    "#### 'list' is the builtin keyword\n",
    "#### Lists are mutable we can change value at any point"
   ]
  },
  {
   "cell_type": "code",
   "execution_count": 2,
   "id": "9d94cdff",
   "metadata": {},
   "outputs": [],
   "source": [
    "li=['h','1','2','e']"
   ]
  },
  {
   "cell_type": "code",
   "execution_count": 3,
   "id": "d31e0511",
   "metadata": {},
   "outputs": [
    {
     "data": {
      "text/plain": [
       "['h', '1', '2', 'e']"
      ]
     },
     "execution_count": 3,
     "metadata": {},
     "output_type": "execute_result"
    }
   ],
   "source": [
    "li"
   ]
  },
  {
   "cell_type": "code",
   "execution_count": 4,
   "id": "3c988eec",
   "metadata": {},
   "outputs": [
    {
     "data": {
      "text/plain": [
       "list"
      ]
     },
     "execution_count": 4,
     "metadata": {},
     "output_type": "execute_result"
    }
   ],
   "source": [
    "type(li)"
   ]
  },
  {
   "cell_type": "markdown",
   "id": "8aef4478",
   "metadata": {},
   "source": [
    "### Tuples"
   ]
  },
  {
   "cell_type": "markdown",
   "id": "a7874f8d",
   "metadata": {},
   "source": [
    "#### Tuple is immutable\n",
    "#### Tuple is one among 4 built-in data types in python\n",
    "#### inbuilt 'tuple'"
   ]
  },
  {
   "cell_type": "code",
   "execution_count": 9,
   "id": "0a5027a9",
   "metadata": {},
   "outputs": [],
   "source": [
    "tu=('hi','1',2,2)"
   ]
  },
  {
   "cell_type": "code",
   "execution_count": 10,
   "id": "b6061dff",
   "metadata": {},
   "outputs": [
    {
     "data": {
      "text/plain": [
       "('hi', '1', 2, 2)"
      ]
     },
     "execution_count": 10,
     "metadata": {},
     "output_type": "execute_result"
    }
   ],
   "source": [
    "tu"
   ]
  },
  {
   "cell_type": "code",
   "execution_count": 11,
   "id": "c2cef87d",
   "metadata": {},
   "outputs": [
    {
     "data": {
      "text/plain": [
       "tuple"
      ]
     },
     "execution_count": 11,
     "metadata": {},
     "output_type": "execute_result"
    }
   ],
   "source": [
    "type(tu)"
   ]
  },
  {
   "cell_type": "markdown",
   "id": "d1d9eaff",
   "metadata": {},
   "source": [
    "### Dictonaries"
   ]
  },
  {
   "cell_type": "markdown",
   "id": "1c66f22f",
   "metadata": {},
   "source": [
    "#### Storing data in the form of Keys and values as pairs\n",
    "#### Do not allow duplicate values\n",
    "#### it is mutable\n",
    "#### 'dict' is the built-in word"
   ]
  },
  {
   "cell_type": "code",
   "execution_count": 13,
   "id": "7378cce3",
   "metadata": {},
   "outputs": [],
   "source": [
    "di={1:2,3:4}"
   ]
  },
  {
   "cell_type": "code",
   "execution_count": 14,
   "id": "6d545e0f",
   "metadata": {},
   "outputs": [
    {
     "data": {
      "text/plain": [
       "{1: 2, 3: 4}"
      ]
     },
     "execution_count": 14,
     "metadata": {},
     "output_type": "execute_result"
    }
   ],
   "source": [
    "di"
   ]
  },
  {
   "cell_type": "code",
   "execution_count": 15,
   "id": "0dd76b86",
   "metadata": {},
   "outputs": [
    {
     "data": {
      "text/plain": [
       "dict"
      ]
     },
     "execution_count": 15,
     "metadata": {},
     "output_type": "execute_result"
    }
   ],
   "source": [
    "type(di)"
   ]
  },
  {
   "cell_type": "code",
   "execution_count": 22,
   "id": "9dbbe073",
   "metadata": {},
   "outputs": [],
   "source": [
    "di={1:2,3:4,'a':6,'a':6}"
   ]
  },
  {
   "cell_type": "code",
   "execution_count": 23,
   "id": "7e1d55e5",
   "metadata": {},
   "outputs": [
    {
     "data": {
      "text/plain": [
       "{1: 2, 3: 4, 'a': 6}"
      ]
     },
     "execution_count": 23,
     "metadata": {},
     "output_type": "execute_result"
    }
   ],
   "source": [
    "di"
   ]
  },
  {
   "cell_type": "markdown",
   "id": "5dd8df03",
   "metadata": {},
   "source": [
    "### Numbers"
   ]
  },
  {
   "cell_type": "markdown",
   "id": "e1365d17",
   "metadata": {},
   "source": [
    "### write an equation that uses multiplication, division, an exponent, addition, and substraction that is equal to 100.25."
   ]
  },
  {
   "cell_type": "code",
   "execution_count": null,
   "id": "ea1456ba",
   "metadata": {},
   "outputs": [],
   "source": []
  }
 ],
 "metadata": {
  "kernelspec": {
   "display_name": "Python 3 (ipykernel)",
   "language": "python",
   "name": "python3"
  },
  "language_info": {
   "codemirror_mode": {
    "name": "ipython",
    "version": 3
   },
   "file_extension": ".py",
   "mimetype": "text/x-python",
   "name": "python",
   "nbconvert_exporter": "python",
   "pygments_lexer": "ipython3",
   "version": "3.11.5"
  }
 },
 "nbformat": 4,
 "nbformat_minor": 5
}
