{
 "cells": [
  {
   "cell_type": "markdown",
   "id": "aefdb781",
   "metadata": {},
   "source": [
    "# Brief Description about Object Types and Data Structures"
   ]
  },
  {
   "cell_type": "markdown",
   "id": "7d2693f8",
   "metadata": {},
   "source": [
    "### Numbers:"
   ]
  },
  {
   "cell_type": "markdown",
   "id": "f601030c",
   "metadata": {},
   "source": [
    "#### The datatype is for numeric data types like: Integer, Float and, complex\n",
    "#### And operations related to numbers like addition, substractio, multiplicatio and many more"
   ]
  },
  {
   "cell_type": "code",
   "execution_count": 1,
   "id": "0ba2f10e",
   "metadata": {},
   "outputs": [
    {
     "data": {
      "text/plain": [
       "int"
      ]
     },
     "execution_count": 1,
     "metadata": {},
     "output_type": "execute_result"
    }
   ],
   "source": [
    "num=5\n",
    "type(num)"
   ]
  },
  {
   "cell_type": "code",
   "execution_count": 2,
   "id": "757a4b38",
   "metadata": {},
   "outputs": [
    {
     "data": {
      "text/plain": [
       "float"
      ]
     },
     "execution_count": 2,
     "metadata": {},
     "output_type": "execute_result"
    }
   ],
   "source": [
    "num=5.00\n",
    "type(num)"
   ]
  },
  {
   "cell_type": "code",
   "execution_count": 3,
   "id": "db9036d0",
   "metadata": {},
   "outputs": [
    {
     "data": {
      "text/plain": [
       "complex"
      ]
     },
     "execution_count": 3,
     "metadata": {},
     "output_type": "execute_result"
    }
   ],
   "source": [
    "num=1+5j\n",
    "type(num)"
   ]
  },
  {
   "cell_type": "markdown",
   "id": "ce0d45a6",
   "metadata": {},
   "source": [
    "### Strings:"
   ]
  },
  {
   "cell_type": "markdown",
   "id": "9a27eb5e",
   "metadata": {},
   "source": [
    "#### String is a collection of alphabets, words and characters\n",
    "#### Strings are immutable\n",
    "#### str is a builtin string class name\n",
    "#### Sring as different operations like slicing, concatination, capitalize, lowercase, formating and many more"
   ]
  },
  {
   "cell_type": "code",
   "execution_count": 9,
   "id": "48fc78e2",
   "metadata": {},
   "outputs": [],
   "source": [
    "alphabet=\"s\""
   ]
  },
  {
   "cell_type": "code",
   "execution_count": 10,
   "id": "454fa20a",
   "metadata": {},
   "outputs": [
    {
     "data": {
      "text/plain": [
       "str"
      ]
     },
     "execution_count": 10,
     "metadata": {},
     "output_type": "execute_result"
    }
   ],
   "source": [
    "type(alphabet)"
   ]
  },
  {
   "cell_type": "code",
   "execution_count": 11,
   "id": "5a6ef57a",
   "metadata": {},
   "outputs": [],
   "source": [
    "word=\"hello\""
   ]
  },
  {
   "cell_type": "code",
   "execution_count": 12,
   "id": "97ff26ab",
   "metadata": {},
   "outputs": [
    {
     "data": {
      "text/plain": [
       "str"
      ]
     },
     "execution_count": 12,
     "metadata": {},
     "output_type": "execute_result"
    }
   ],
   "source": [
    "type(word)"
   ]
  },
  {
   "cell_type": "code",
   "execution_count": 13,
   "id": "56262845",
   "metadata": {},
   "outputs": [],
   "source": [
    "char='!@#$%'"
   ]
  },
  {
   "cell_type": "code",
   "execution_count": 14,
   "id": "49750378",
   "metadata": {},
   "outputs": [
    {
     "data": {
      "text/plain": [
       "str"
      ]
     },
     "execution_count": 14,
     "metadata": {},
     "output_type": "execute_result"
    }
   ],
   "source": [
    "type(char)"
   ]
  },
  {
   "cell_type": "markdown",
   "id": "b0199319",
   "metadata": {},
   "source": [
    "### Lists"
   ]
  },
  {
   "cell_type": "markdown",
   "id": "91c4c002",
   "metadata": {},
   "source": [
    "#### Lists are used to store mulitple items in a single variable\n",
    "#### used to store collections of data\n",
    "#### It can hold both numeric and characters in the same list\n",
    "#### Elements can be accessed by index value\n",
    "#### 'list' is the builtin keyword\n",
    "#### Lists are mutable we can change value at any point"
   ]
  },
  {
   "cell_type": "code",
   "execution_count": 2,
   "id": "02f312eb",
   "metadata": {},
   "outputs": [],
   "source": [
    "li=['h','1','2','e']"
   ]
  },
  {
   "cell_type": "code",
   "execution_count": 3,
   "id": "9515b2b9",
   "metadata": {},
   "outputs": [
    {
     "data": {
      "text/plain": [
       "['h', '1', '2', 'e']"
      ]
     },
     "execution_count": 3,
     "metadata": {},
     "output_type": "execute_result"
    }
   ],
   "source": [
    "li"
   ]
  },
  {
   "cell_type": "code",
   "execution_count": 4,
   "id": "9d268363",
   "metadata": {},
   "outputs": [
    {
     "data": {
      "text/plain": [
       "list"
      ]
     },
     "execution_count": 4,
     "metadata": {},
     "output_type": "execute_result"
    }
   ],
   "source": [
    "type(li)"
   ]
  },
  {
   "cell_type": "markdown",
   "id": "b6216ce4",
   "metadata": {},
   "source": [
    "### Tuples"
   ]
  },
  {
   "cell_type": "markdown",
   "id": "87423ef2",
   "metadata": {},
   "source": [
    "#### Tuple is immutable\n",
    "#### Tuple is one among 4 built-in data types in python\n",
    "#### inbuilt 'tuple'"
   ]
  },
  {
   "cell_type": "code",
   "execution_count": 9,
   "id": "dc0cc7b2",
   "metadata": {},
   "outputs": [],
   "source": [
    "tu=('hi','1',2,2)"
   ]
  },
  {
   "cell_type": "code",
   "execution_count": 10,
   "id": "9cdfa370",
   "metadata": {},
   "outputs": [
    {
     "data": {
      "text/plain": [
       "('hi', '1', 2, 2)"
      ]
     },
     "execution_count": 10,
     "metadata": {},
     "output_type": "execute_result"
    }
   ],
   "source": [
    "tu"
   ]
  },
  {
   "cell_type": "code",
   "execution_count": 11,
   "id": "c493bb67",
   "metadata": {},
   "outputs": [
    {
     "data": {
      "text/plain": [
       "tuple"
      ]
     },
     "execution_count": 11,
     "metadata": {},
     "output_type": "execute_result"
    }
   ],
   "source": [
    "type(tu)"
   ]
  },
  {
   "cell_type": "markdown",
   "id": "fd59798a",
   "metadata": {},
   "source": [
    "### Dictonaries"
   ]
  },
  {
   "cell_type": "markdown",
   "id": "b27ce6dc",
   "metadata": {},
   "source": [
    "#### Storing data in the form of Keys and values as pairs\n",
    "#### Do not allow duplicate values\n",
    "#### it is mutable\n",
    "#### 'dict' is the built-in word"
   ]
  },
  {
   "cell_type": "code",
   "execution_count": 13,
   "id": "8411e5ce",
   "metadata": {},
   "outputs": [],
   "source": [
    "di={1:2,3:4}"
   ]
  },
  {
   "cell_type": "code",
   "execution_count": 14,
   "id": "3de80a10",
   "metadata": {},
   "outputs": [
    {
     "data": {
      "text/plain": [
       "{1: 2, 3: 4}"
      ]
     },
     "execution_count": 14,
     "metadata": {},
     "output_type": "execute_result"
    }
   ],
   "source": [
    "di"
   ]
  },
  {
   "cell_type": "code",
   "execution_count": 15,
   "id": "e979f851",
   "metadata": {},
   "outputs": [
    {
     "data": {
      "text/plain": [
       "dict"
      ]
     },
     "execution_count": 15,
     "metadata": {},
     "output_type": "execute_result"
    }
   ],
   "source": [
    "type(di)"
   ]
  },
  {
   "cell_type": "code",
   "execution_count": 22,
   "id": "8869dd11",
   "metadata": {},
   "outputs": [],
   "source": [
    "di={1:2,3:4,'a':6,'a':6}"
   ]
  },
  {
   "cell_type": "code",
   "execution_count": 23,
   "id": "ad38d4d1",
   "metadata": {},
   "outputs": [
    {
     "data": {
      "text/plain": [
       "{1: 2, 3: 4, 'a': 6}"
      ]
     },
     "execution_count": 23,
     "metadata": {},
     "output_type": "execute_result"
    }
   ],
   "source": [
    "di"
   ]
  },
  {
   "cell_type": "markdown",
   "id": "19acf198",
   "metadata": {},
   "source": [
    "### Numbers"
   ]
  },
  {
   "cell_type": "markdown",
   "id": "bc8b9f4b",
   "metadata": {},
   "source": [
    "### write an equation that uses multiplication, division, and exponent, addition, and substraction that is equal to 100.25."
   ]
  },
  {
   "cell_type": "code",
   "execution_count": 60,
   "id": "2b775218",
   "metadata": {},
   "outputs": [
    {
     "data": {
      "text/plain": [
       "100.25"
      ]
     },
     "execution_count": 60,
     "metadata": {},
     "output_type": "execute_result"
    }
   ],
   "source": [
    "200*2/4+1**2-0.75"
   ]
  },
  {
   "cell_type": "markdown",
   "id": "363813ed",
   "metadata": {},
   "source": [
    "first exponential works\n",
    "1**2 = 1 \n",
    "\n",
    "then multiplication\n",
    "so 2*200 = 400\n",
    "\n",
    "then division\n",
    "so 400/4 = 100\n",
    "\n",
    "then addition\n",
    "so 100+1 = 101\n",
    "\n",
    "then substraction\n",
    "101-0.75 = 100.25"
   ]
  },
  {
   "cell_type": "markdown",
   "id": "c793dc08",
   "metadata": {},
   "source": [
    "##### check the equations\n",
    "##### 1. 4 * (6+5)\n",
    "##### 2. 4 * 6+5\n",
    "##### 3. 4 + 6 * 5"
   ]
  },
  {
   "cell_type": "code",
   "execution_count": 61,
   "id": "8e65eb2e",
   "metadata": {},
   "outputs": [
    {
     "data": {
      "text/plain": [
       "44"
      ]
     },
     "execution_count": 61,
     "metadata": {},
     "output_type": "execute_result"
    }
   ],
   "source": [
    "4 * (6+5)"
   ]
  },
  {
   "cell_type": "code",
   "execution_count": 62,
   "id": "8c46fea1",
   "metadata": {},
   "outputs": [
    {
     "data": {
      "text/plain": [
       "29"
      ]
     },
     "execution_count": 62,
     "metadata": {},
     "output_type": "execute_result"
    }
   ],
   "source": [
    "4 * 6+5"
   ]
  },
  {
   "cell_type": "code",
   "execution_count": 63,
   "id": "8add472b",
   "metadata": {},
   "outputs": [
    {
     "data": {
      "text/plain": [
       "34"
      ]
     },
     "execution_count": 63,
     "metadata": {},
     "output_type": "execute_result"
    }
   ],
   "source": [
    "4 + 6 * 5"
   ]
  },
  {
   "cell_type": "markdown",
   "id": "e38ee992",
   "metadata": {},
   "source": [
    "#### what is the data type of this equation 3+1.5+4"
   ]
  },
  {
   "cell_type": "code",
   "execution_count": 68,
   "id": "19f6e915",
   "metadata": {},
   "outputs": [
    {
     "data": {
      "text/plain": [
       "8.5"
      ]
     },
     "execution_count": 68,
     "metadata": {},
     "output_type": "execute_result"
    }
   ],
   "source": [
    "3+1.5+4"
   ]
  },
  {
   "cell_type": "code",
   "execution_count": 65,
   "id": "d0d0b846",
   "metadata": {},
   "outputs": [],
   "source": [
    "d=3+1.5+4"
   ]
  },
  {
   "cell_type": "code",
   "execution_count": 66,
   "id": "41d63186",
   "metadata": {},
   "outputs": [
    {
     "data": {
      "text/plain": [
       "float"
      ]
     },
     "execution_count": 66,
     "metadata": {},
     "output_type": "execute_result"
    }
   ],
   "source": [
    "type(d)"
   ]
  },
  {
   "cell_type": "markdown",
   "id": "d8cc281b",
   "metadata": {},
   "source": [
    "#### Find the sqaure root and find the square "
   ]
  },
  {
   "cell_type": "code",
   "execution_count": 71,
   "id": "8c8043b4",
   "metadata": {},
   "outputs": [
    {
     "data": {
      "text/plain": [
       "1.4142135623730951"
      ]
     },
     "execution_count": 71,
     "metadata": {},
     "output_type": "execute_result"
    }
   ],
   "source": [
    "import math as m\n",
    "m.sqrt(2)"
   ]
  },
  {
   "cell_type": "code",
   "execution_count": 72,
   "id": "b0f00ed1",
   "metadata": {},
   "outputs": [
    {
     "data": {
      "text/plain": [
       "2.0"
      ]
     },
     "execution_count": 72,
     "metadata": {},
     "output_type": "execute_result"
    }
   ],
   "source": [
    "m.sqrt(4)"
   ]
  },
  {
   "cell_type": "code",
   "execution_count": 74,
   "id": "6b235f24",
   "metadata": {},
   "outputs": [
    {
     "data": {
      "text/plain": [
       "4"
      ]
     },
     "execution_count": 74,
     "metadata": {},
     "output_type": "execute_result"
    }
   ],
   "source": [
    "2**2"
   ]
  },
  {
   "cell_type": "code",
   "execution_count": null,
   "id": "9465d5b1",
   "metadata": {},
   "outputs": [],
   "source": []
  }
 ],
 "metadata": {
  "kernelspec": {
   "display_name": "Python 3 (ipykernel)",
   "language": "python",
   "name": "python3"
  },
  "language_info": {
   "codemirror_mode": {
    "name": "ipython",
    "version": 3
   },
   "file_extension": ".py",
   "mimetype": "text/x-python",
   "name": "python",
   "nbconvert_exporter": "python",
   "pygments_lexer": "ipython3",
   "version": "3.11.5"
  }
 },
 "nbformat": 4,
 "nbformat_minor": 5
}
